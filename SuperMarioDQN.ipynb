{
 "cells": [
  {
   "cell_type": "code",
   "execution_count": 2,
   "metadata": {},
   "outputs": [],
   "source": [
    "import sagemaker\n",
    "import boto3\n",
    "import sys\n",
    "import os\n",
    "import glob\n",
    "import re\n",
    "import subprocess\n",
    "import numpy as np\n",
    "from IPython.display import HTML\n",
    "import time\n",
    "from time import gmtime, strftime\n",
    "import nes_py\n",
    "\n",
    "\n",
    "\n",
    "COMMON_PATH = \"amazon-sagemaker-examples/reinforcement_learning/common\"\n",
    "sys.path.append(COMMON_PATH)\n",
    "from sagemaker.rl import RLEstimator, RLToolkit, RLFramework"
   ]
  },
  {
   "cell_type": "code",
   "execution_count": 3,
   "metadata": {},
   "outputs": [
    {
     "name": "stdout",
     "output_type": "stream",
     "text": [
      "S3 bucket path: s3://sagemaker-eu-central-1-131765425223/\n"
     ]
    }
   ],
   "source": [
    "sage_session = sagemaker.session.Session()\n",
    "s3_bucket = sage_session.default_bucket()  \n",
    "s3_output_path = 's3://{}/'.format(s3_bucket)\n",
    "print(\"S3 bucket path: {}\".format(s3_output_path))"
   ]
  },
  {
   "cell_type": "code",
   "execution_count": 4,
   "metadata": {},
   "outputs": [
    {
     "name": "stdout",
     "output_type": "stream",
     "text": [
      "S3 bucket path: s3://sagemaker-eu-central-1-131765425223/\n"
     ]
    }
   ],
   "source": [
    "sage_session = sagemaker.session.Session()\n",
    "s3_bucket = sage_session.default_bucket()  \n",
    "s3_output_path = 's3://{}/'.format(s3_bucket)\n",
    "print(\"S3 bucket path: {}\".format(s3_output_path))"
   ]
  },
  {
   "cell_type": "code",
   "execution_count": 11,
   "metadata": {},
   "outputs": [],
   "source": [
    "job_name_prefix = 'rl-super-mario'"
   ]
  },
  {
   "cell_type": "code",
   "execution_count": 5,
   "metadata": {},
   "outputs": [],
   "source": [
    "# run in local mode?\n",
    "local_mode = True\n",
    "\n",
    "if local_mode:\n",
    "    instance_type = 'local'\n",
    "else:\n",
    "    instance_type = \"ml.m4.4xlarge\""
   ]
  },
  {
   "cell_type": "code",
   "execution_count": 6,
   "metadata": {},
   "outputs": [
    {
     "name": "stdout",
     "output_type": "stream",
     "text": [
      "Using IAM role arn: arn:aws:iam::131765425223:role/service-role/AmazonSageMaker-ExecutionRole-20200812T110893\n"
     ]
    }
   ],
   "source": [
    "try:\n",
    "    role = sagemaker.get_execution_role()\n",
    "except:\n",
    "    role = get_execution_role()\n",
    "\n",
    "print(\"Using IAM role arn: {}\".format(role))"
   ]
  },
  {
   "cell_type": "code",
   "execution_count": 8,
   "metadata": {},
   "outputs": [
    {
     "name": "stdout",
     "output_type": "stream",
     "text": [
      "\u001b[34mfrom\u001b[39;49;00m \u001b[04m\u001b[36mrl_coach\u001b[39;49;00m\u001b[04m\u001b[36m.\u001b[39;49;00m\u001b[04m\u001b[36magents\u001b[39;49;00m\u001b[04m\u001b[36m.\u001b[39;49;00m\u001b[04m\u001b[36mdqn_agent\u001b[39;49;00m \u001b[34mimport\u001b[39;49;00m DQNAgentParameters\n",
      "\u001b[34mfrom\u001b[39;49;00m \u001b[04m\u001b[36mrl_coach\u001b[39;49;00m\u001b[04m\u001b[36m.\u001b[39;49;00m\u001b[04m\u001b[36mbase_parameters\u001b[39;49;00m \u001b[34mimport\u001b[39;49;00m VisualizationParameters, PresetValidationParameters, DistributedCoachSynchronizationType\n",
      "\u001b[34mfrom\u001b[39;49;00m \u001b[04m\u001b[36mrl_coach\u001b[39;49;00m\u001b[04m\u001b[36m.\u001b[39;49;00m\u001b[04m\u001b[36mcore_types\u001b[39;49;00m \u001b[34mimport\u001b[39;49;00m TrainingSteps, EnvironmentEpisodes, EnvironmentSteps\n",
      "\u001b[34mfrom\u001b[39;49;00m \u001b[04m\u001b[36mrl_coach\u001b[39;49;00m\u001b[04m\u001b[36m.\u001b[39;49;00m\u001b[04m\u001b[36menvironments\u001b[39;49;00m\u001b[04m\u001b[36m.\u001b[39;49;00m\u001b[04m\u001b[36mgym_environment\u001b[39;49;00m \u001b[34mimport\u001b[39;49;00m GymEnvironmentParameters, GymVectorEnvironment\n",
      "\u001b[34mfrom\u001b[39;49;00m \u001b[04m\u001b[36mrl_coach\u001b[39;49;00m\u001b[04m\u001b[36m.\u001b[39;49;00m\u001b[04m\u001b[36mgraph_managers\u001b[39;49;00m\u001b[04m\u001b[36m.\u001b[39;49;00m\u001b[04m\u001b[36mbasic_rl_graph_manager\u001b[39;49;00m \u001b[34mimport\u001b[39;49;00m BasicRLGraphManager\n",
      "\u001b[34mfrom\u001b[39;49;00m \u001b[04m\u001b[36mrl_coach\u001b[39;49;00m\u001b[04m\u001b[36m.\u001b[39;49;00m\u001b[04m\u001b[36mgraph_managers\u001b[39;49;00m\u001b[04m\u001b[36m.\u001b[39;49;00m\u001b[04m\u001b[36mgraph_manager\u001b[39;49;00m \u001b[34mimport\u001b[39;49;00m ScheduleParameters\n",
      "\u001b[34mfrom\u001b[39;49;00m \u001b[04m\u001b[36mrl_coach\u001b[39;49;00m\u001b[04m\u001b[36m.\u001b[39;49;00m\u001b[04m\u001b[36mmemories\u001b[39;49;00m\u001b[04m\u001b[36m.\u001b[39;49;00m\u001b[04m\u001b[36mmemory\u001b[39;49;00m \u001b[34mimport\u001b[39;49;00m MemoryGranularity\n",
      "\u001b[34mfrom\u001b[39;49;00m \u001b[04m\u001b[36mrl_coach\u001b[39;49;00m\u001b[04m\u001b[36m.\u001b[39;49;00m\u001b[04m\u001b[36mschedules\u001b[39;49;00m \u001b[34mimport\u001b[39;49;00m LinearSchedule\n",
      "\n",
      "\u001b[37m####################\u001b[39;49;00m\n",
      "\u001b[37m# Graph Scheduling #\u001b[39;49;00m\n",
      "\u001b[37m####################\u001b[39;49;00m\n",
      "\n",
      "schedule_params = ScheduleParameters()\n",
      "schedule_params.improve_steps = TrainingSteps(\u001b[34m10000000000\u001b[39;49;00m)\n",
      "schedule_params.steps_between_evaluation_periods = EnvironmentEpisodes(\u001b[34m10\u001b[39;49;00m)\n",
      "schedule_params.evaluation_steps = EnvironmentEpisodes(\u001b[34m1\u001b[39;49;00m)\n",
      "schedule_params.heatup_steps = EnvironmentSteps(\u001b[34m1000\u001b[39;49;00m)\n",
      "\n",
      "\u001b[37m#########\u001b[39;49;00m\n",
      "\u001b[37m# Agent #\u001b[39;49;00m\n",
      "\u001b[37m#########\u001b[39;49;00m\n",
      "agent_params = DQNAgentParameters()\n",
      "\n",
      "\u001b[37m# DQN params\u001b[39;49;00m\n",
      "agent_params.algorithm.num_steps_between_copying_online_weights_to_target = EnvironmentSteps(\u001b[34m100\u001b[39;49;00m)\n",
      "agent_params.algorithm.discount = \u001b[34m0.99\u001b[39;49;00m\n",
      "agent_params.algorithm.num_consecutive_playing_steps = EnvironmentSteps(\u001b[34m1\u001b[39;49;00m)\n",
      "\n",
      "\u001b[37m# NN configuration\u001b[39;49;00m\n",
      "agent_params.network_wrappers[\u001b[33m'\u001b[39;49;00m\u001b[33mmain\u001b[39;49;00m\u001b[33m'\u001b[39;49;00m].learning_rate = \u001b[34m0.00025\u001b[39;49;00m\n",
      "agent_params.network_wrappers[\u001b[33m'\u001b[39;49;00m\u001b[33mmain\u001b[39;49;00m\u001b[33m'\u001b[39;49;00m].replace_mse_with_huber_loss = \u001b[34mFalse\u001b[39;49;00m\n",
      "\n",
      "\u001b[37m# ER size\u001b[39;49;00m\n",
      "agent_params.memory.max_size = (MemoryGranularity.Transitions, \u001b[34m40000\u001b[39;49;00m)\n",
      "\n",
      "\u001b[37m# E-Greedy schedule\u001b[39;49;00m\n",
      "agent_params.exploration.epsilon_schedule = LinearSchedule(\u001b[34m1.0\u001b[39;49;00m, \u001b[34m0.01\u001b[39;49;00m, \u001b[34m10000\u001b[39;49;00m)\n",
      "\n",
      "\u001b[37m################\u001b[39;49;00m\n",
      "\u001b[37m#  Environment #\u001b[39;49;00m\n",
      "\u001b[37m################\u001b[39;49;00m\n",
      "env_params = GymVectorEnvironment()\n",
      "env_params.level = \u001b[33m\"\u001b[39;49;00m\u001b[33menv.super_mario.gym_super_mario_bros.smb_env:SuperMarioBrosEnv\u001b[39;49;00m\u001b[33m\"\u001b[39;49;00m\n",
      "\n",
      "\u001b[37m#################\u001b[39;49;00m\n",
      "\u001b[37m# Visualization #\u001b[39;49;00m\n",
      "\u001b[37m#################\u001b[39;49;00m\n",
      "\n",
      "vis_params = VisualizationParameters()\n",
      "vis_params.dump_gifs = \u001b[34mTrue\u001b[39;49;00m\n",
      "\n",
      "\u001b[37m########\u001b[39;49;00m\n",
      "\u001b[37m# Test #\u001b[39;49;00m\n",
      "\u001b[37m########\u001b[39;49;00m\n",
      "preset_validation_params = PresetValidationParameters()\n",
      "preset_validation_params.test = \u001b[34mTrue\u001b[39;49;00m\n",
      "preset_validation_params.min_reward_threshold = \u001b[34m150\u001b[39;49;00m\n",
      "preset_validation_params.max_episodes_to_achieve_reward = \u001b[34m250\u001b[39;49;00m\n",
      "\n",
      "\n",
      "graph_manager = BasicRLGraphManager(agent_params=agent_params, env_params=env_params, schedule_params=schedule_params, vis_params=vis_params, preset_validation_params=preset_validation_params)\n"
     ]
    }
   ],
   "source": [
    "!pygmentize src/mario-dqn.py"
   ]
  },
  {
   "cell_type": "code",
   "execution_count": 9,
   "metadata": {},
   "outputs": [
    {
     "name": "stdout",
     "output_type": "stream",
     "text": [
      "\u001b[34mfrom\u001b[39;49;00m \u001b[04m\u001b[36msagemaker_rl\u001b[39;49;00m\u001b[04m\u001b[36m.\u001b[39;49;00m\u001b[04m\u001b[36mcoach_launcher\u001b[39;49;00m \u001b[34mimport\u001b[39;49;00m SageMakerCoachPresetLauncher\n",
      "\n",
      "\u001b[34mclass\u001b[39;49;00m \u001b[04m\u001b[32mMyLauncher\u001b[39;49;00m(SageMakerCoachPresetLauncher):\n",
      "\n",
      "    \u001b[34mdef\u001b[39;49;00m \u001b[32mdefault_preset_name\u001b[39;49;00m(\u001b[36mself\u001b[39;49;00m):\n",
      "        \u001b[33m\"\"\"This points to a .py file that configures everything about the RL job.\u001b[39;49;00m\n",
      "\u001b[33m        It can be overridden at runtime by specifying the RLCOACH_PRESET hyperparameter.\u001b[39;49;00m\n",
      "\u001b[33m        \"\"\"\u001b[39;49;00m\n",
      "        \u001b[34mreturn\u001b[39;49;00m \u001b[33m'\u001b[39;49;00m\u001b[33mmario-dqn\u001b[39;49;00m\u001b[33m'\u001b[39;49;00m\n",
      "    \n",
      "\u001b[34mif\u001b[39;49;00m \u001b[31m__name__\u001b[39;49;00m == \u001b[33m'\u001b[39;49;00m\u001b[33m__main__\u001b[39;49;00m\u001b[33m'\u001b[39;49;00m:\n",
      "    MyLauncher.train_main()\n"
     ]
    }
   ],
   "source": [
    "!pygmentize src/train-coach.py"
   ]
  },
  {
   "cell_type": "code",
   "execution_count": 12,
   "metadata": {},
   "outputs": [
    {
     "name": "stderr",
     "output_type": "stream",
     "text": [
      "'create_image_uri' will be deprecated in favor of 'ImageURIProvider' class in SageMaker Python SDK v2.\n"
     ]
    },
    {
     "name": "stdout",
     "output_type": "stream",
     "text": [
      "Creating tmpa31ifcca_algo-1-yxvlr_1 ... \n",
      "\u001b[1BAttaching to tmpa31ifcca_algo-1-yxvlr_12mdone\u001b[0m\n",
      "\u001b[36malgo-1-yxvlr_1  |\u001b[0m 2020-11-17 15:30:14,524 sagemaker-containers INFO     Imported framework sagemaker_tensorflow_container.training\n",
      "\u001b[36malgo-1-yxvlr_1  |\u001b[0m 2020-11-17 15:30:14,529 sagemaker-containers INFO     No GPUs detected (normal if no gpus installed)\n",
      "\u001b[36malgo-1-yxvlr_1  |\u001b[0m 2020-11-17 15:30:14,722 sagemaker-containers INFO     No GPUs detected (normal if no gpus installed)\n",
      "\u001b[36malgo-1-yxvlr_1  |\u001b[0m 2020-11-17 15:30:14,737 sagemaker-containers INFO     Invoking user script\n",
      "\u001b[36malgo-1-yxvlr_1  |\u001b[0m \n",
      "\u001b[36malgo-1-yxvlr_1  |\u001b[0m Training Env:\n",
      "\u001b[36malgo-1-yxvlr_1  |\u001b[0m \n",
      "\u001b[36malgo-1-yxvlr_1  |\u001b[0m {\n",
      "\u001b[36malgo-1-yxvlr_1  |\u001b[0m     \"additional_framework_parameters\": {\n",
      "\u001b[36malgo-1-yxvlr_1  |\u001b[0m         \"sagemaker_estimator\": \"RLEstimator\"\n",
      "\u001b[36malgo-1-yxvlr_1  |\u001b[0m     },\n",
      "\u001b[36malgo-1-yxvlr_1  |\u001b[0m     \"channel_input_dirs\": {},\n",
      "\u001b[36malgo-1-yxvlr_1  |\u001b[0m     \"current_host\": \"algo-1-yxvlr\",\n",
      "\u001b[36malgo-1-yxvlr_1  |\u001b[0m     \"framework_module\": \"sagemaker_tensorflow_container.training:main\",\n",
      "\u001b[36malgo-1-yxvlr_1  |\u001b[0m     \"hosts\": [\n",
      "\u001b[36malgo-1-yxvlr_1  |\u001b[0m         \"algo-1-yxvlr\"\n",
      "\u001b[36malgo-1-yxvlr_1  |\u001b[0m     ],\n",
      "\u001b[36malgo-1-yxvlr_1  |\u001b[0m     \"hyperparameters\": {},\n",
      "\u001b[36malgo-1-yxvlr_1  |\u001b[0m     \"input_config_dir\": \"/opt/ml/input/config\",\n",
      "\u001b[36malgo-1-yxvlr_1  |\u001b[0m     \"input_data_config\": {},\n",
      "\u001b[36malgo-1-yxvlr_1  |\u001b[0m     \"input_dir\": \"/opt/ml/input\",\n",
      "\u001b[36malgo-1-yxvlr_1  |\u001b[0m     \"job_name\": \"rl-super-mario-2020-11-17-15-29-17-670\",\n",
      "\u001b[36malgo-1-yxvlr_1  |\u001b[0m     \"log_level\": 20,\n",
      "\u001b[36malgo-1-yxvlr_1  |\u001b[0m     \"model_dir\": \"/opt/ml/model\",\n",
      "\u001b[36malgo-1-yxvlr_1  |\u001b[0m     \"module_dir\": \"s3://sagemaker-eu-central-1-131765425223/rl-super-mario-2020-11-17-15-29-17-670/source/sourcedir.tar.gz\",\n",
      "\u001b[36malgo-1-yxvlr_1  |\u001b[0m     \"module_name\": \"train-coach\",\n",
      "\u001b[36malgo-1-yxvlr_1  |\u001b[0m     \"network_interface_name\": \"ethwe\",\n",
      "\u001b[36malgo-1-yxvlr_1  |\u001b[0m     \"num_cpus\": 2,\n",
      "\u001b[36malgo-1-yxvlr_1  |\u001b[0m     \"num_gpus\": 0,\n",
      "\u001b[36malgo-1-yxvlr_1  |\u001b[0m     \"output_data_dir\": \"/opt/ml/output/data\",\n",
      "\u001b[36malgo-1-yxvlr_1  |\u001b[0m     \"output_dir\": \"/opt/ml/output\",\n",
      "\u001b[36malgo-1-yxvlr_1  |\u001b[0m     \"output_intermediate_dir\": \"/opt/ml/output/intermediate\",\n",
      "\u001b[36malgo-1-yxvlr_1  |\u001b[0m     \"resource_config\": {\n",
      "\u001b[36malgo-1-yxvlr_1  |\u001b[0m         \"current_host\": \"algo-1-yxvlr\",\n",
      "\u001b[36malgo-1-yxvlr_1  |\u001b[0m         \"hosts\": [\n",
      "\u001b[36malgo-1-yxvlr_1  |\u001b[0m             \"algo-1-yxvlr\"\n",
      "\u001b[36malgo-1-yxvlr_1  |\u001b[0m         ]\n",
      "\u001b[36malgo-1-yxvlr_1  |\u001b[0m     },\n",
      "\u001b[36malgo-1-yxvlr_1  |\u001b[0m     \"user_entry_point\": \"train-coach.py\"\n",
      "\u001b[36malgo-1-yxvlr_1  |\u001b[0m }\n",
      "\u001b[36malgo-1-yxvlr_1  |\u001b[0m \n",
      "\u001b[36malgo-1-yxvlr_1  |\u001b[0m Environment variables:\n",
      "\u001b[36malgo-1-yxvlr_1  |\u001b[0m \n",
      "\u001b[36malgo-1-yxvlr_1  |\u001b[0m SM_HOSTS=[\"algo-1-yxvlr\"]\n",
      "\u001b[36malgo-1-yxvlr_1  |\u001b[0m SM_NETWORK_INTERFACE_NAME=ethwe\n",
      "\u001b[36malgo-1-yxvlr_1  |\u001b[0m SM_HPS={}\n",
      "\u001b[36malgo-1-yxvlr_1  |\u001b[0m SM_USER_ENTRY_POINT=train-coach.py\n",
      "\u001b[36malgo-1-yxvlr_1  |\u001b[0m SM_FRAMEWORK_PARAMS={\"sagemaker_estimator\":\"RLEstimator\"}\n",
      "\u001b[36malgo-1-yxvlr_1  |\u001b[0m SM_RESOURCE_CONFIG={\"current_host\":\"algo-1-yxvlr\",\"hosts\":[\"algo-1-yxvlr\"]}\n",
      "\u001b[36malgo-1-yxvlr_1  |\u001b[0m SM_INPUT_DATA_CONFIG={}\n",
      "\u001b[36malgo-1-yxvlr_1  |\u001b[0m SM_OUTPUT_DATA_DIR=/opt/ml/output/data\n",
      "\u001b[36malgo-1-yxvlr_1  |\u001b[0m SM_CHANNELS=[]\n",
      "\u001b[36malgo-1-yxvlr_1  |\u001b[0m SM_CURRENT_HOST=algo-1-yxvlr\n",
      "\u001b[36malgo-1-yxvlr_1  |\u001b[0m SM_MODULE_NAME=train-coach\n",
      "\u001b[36malgo-1-yxvlr_1  |\u001b[0m SM_LOG_LEVEL=20\n",
      "\u001b[36malgo-1-yxvlr_1  |\u001b[0m SM_FRAMEWORK_MODULE=sagemaker_tensorflow_container.training:main\n",
      "\u001b[36malgo-1-yxvlr_1  |\u001b[0m SM_INPUT_DIR=/opt/ml/input\n",
      "\u001b[36malgo-1-yxvlr_1  |\u001b[0m SM_INPUT_CONFIG_DIR=/opt/ml/input/config\n",
      "\u001b[36malgo-1-yxvlr_1  |\u001b[0m SM_OUTPUT_DIR=/opt/ml/output\n",
      "\u001b[36malgo-1-yxvlr_1  |\u001b[0m SM_NUM_CPUS=2\n",
      "\u001b[36malgo-1-yxvlr_1  |\u001b[0m SM_NUM_GPUS=0\n",
      "\u001b[36malgo-1-yxvlr_1  |\u001b[0m SM_MODEL_DIR=/opt/ml/model\n",
      "\u001b[36malgo-1-yxvlr_1  |\u001b[0m SM_MODULE_DIR=s3://sagemaker-eu-central-1-131765425223/rl-super-mario-2020-11-17-15-29-17-670/source/sourcedir.tar.gz\n",
      "\u001b[36malgo-1-yxvlr_1  |\u001b[0m SM_TRAINING_ENV={\"additional_framework_parameters\":{\"sagemaker_estimator\":\"RLEstimator\"},\"channel_input_dirs\":{},\"current_host\":\"algo-1-yxvlr\",\"framework_module\":\"sagemaker_tensorflow_container.training:main\",\"hosts\":[\"algo-1-yxvlr\"],\"hyperparameters\":{},\"input_config_dir\":\"/opt/ml/input/config\",\"input_data_config\":{},\"input_dir\":\"/opt/ml/input\",\"job_name\":\"rl-super-mario-2020-11-17-15-29-17-670\",\"log_level\":20,\"model_dir\":\"/opt/ml/model\",\"module_dir\":\"s3://sagemaker-eu-central-1-131765425223/rl-super-mario-2020-11-17-15-29-17-670/source/sourcedir.tar.gz\",\"module_name\":\"train-coach\",\"network_interface_name\":\"ethwe\",\"num_cpus\":2,\"num_gpus\":0,\"output_data_dir\":\"/opt/ml/output/data\",\"output_dir\":\"/opt/ml/output\",\"output_intermediate_dir\":\"/opt/ml/output/intermediate\",\"resource_config\":{\"current_host\":\"algo-1-yxvlr\",\"hosts\":[\"algo-1-yxvlr\"]},\"user_entry_point\":\"train-coach.py\"}\n",
      "\u001b[36malgo-1-yxvlr_1  |\u001b[0m SM_USER_ARGS=[]\n",
      "\u001b[36malgo-1-yxvlr_1  |\u001b[0m SM_OUTPUT_INTERMEDIATE_DIR=/opt/ml/output/intermediate\n",
      "\u001b[36malgo-1-yxvlr_1  |\u001b[0m PYTHONPATH=/opt/ml/code:/usr/local/bin:/usr/lib/python36.zip:/usr/lib/python3.6:/usr/lib/python3.6/lib-dynload:/usr/local/lib/python3.6/dist-packages:/usr/lib/python3/dist-packages\n",
      "\u001b[36malgo-1-yxvlr_1  |\u001b[0m \n",
      "\u001b[36malgo-1-yxvlr_1  |\u001b[0m Invoking script with the following command:\n",
      "\u001b[36malgo-1-yxvlr_1  |\u001b[0m \n",
      "\u001b[36malgo-1-yxvlr_1  |\u001b[0m /usr/bin/python train-coach.py\n",
      "\u001b[36malgo-1-yxvlr_1  |\u001b[0m \n",
      "\u001b[36malgo-1-yxvlr_1  |\u001b[0m \n",
      "\u001b[36malgo-1-yxvlr_1  |\u001b[0m \u001b[93mWarning: failed to import the following packages - mxnet\u001b[0m\n",
      "\u001b[36malgo-1-yxvlr_1  |\u001b[0m Loading preset mario-dqn from /opt/ml/code\n",
      "\u001b[36malgo-1-yxvlr_1  |\u001b[0m ## Creating graph - name: BasicRLGraphManager\n",
      "\u001b[36malgo-1-yxvlr_1  |\u001b[0m Traceback (most recent call last):\n",
      "\u001b[36malgo-1-yxvlr_1  |\u001b[0m   File \"train-coach.py\", line 12, in <module>\n",
      "\u001b[36malgo-1-yxvlr_1  |\u001b[0m     MyLauncher.train_main()\n",
      "\u001b[36malgo-1-yxvlr_1  |\u001b[0m   File \"/opt/ml/code/sagemaker_rl/coach_launcher.py\", line 248, in train_main\n",
      "\u001b[36malgo-1-yxvlr_1  |\u001b[0m     trainer.launch()\n",
      "\u001b[36malgo-1-yxvlr_1  |\u001b[0m   File \"/usr/local/lib/python3.6/dist-packages/rl_coach/coach.py\", line 216, in launch\n",
      "\u001b[36malgo-1-yxvlr_1  |\u001b[0m     self.run_graph_manager(graph_manager, args)\n",
      "\u001b[36malgo-1-yxvlr_1  |\u001b[0m   File \"/usr/local/lib/python3.6/dist-packages/rl_coach/coach.py\", line 624, in run_graph_manager\n",
      "\u001b[36malgo-1-yxvlr_1  |\u001b[0m     self.start_single_threaded(task_parameters, graph_manager, args)\n",
      "\u001b[36malgo-1-yxvlr_1  |\u001b[0m   File \"/usr/local/lib/python3.6/dist-packages/rl_coach/coach.py\", line 630, in start_single_threaded\n",
      "\u001b[36malgo-1-yxvlr_1  |\u001b[0m     start_graph(graph_manager=graph_manager, task_parameters=task_parameters)\n",
      "\u001b[36malgo-1-yxvlr_1  |\u001b[0m   File \"/usr/local/lib/python3.6/dist-packages/rl_coach/coach.py\", line 77, in start_graph\n",
      "\u001b[36malgo-1-yxvlr_1  |\u001b[0m     graph_manager.create_graph(task_parameters)\n",
      "\u001b[36malgo-1-yxvlr_1  |\u001b[0m   File \"/usr/local/lib/python3.6/dist-packages/rl_coach/graph_managers/graph_manager.py\", line 144, in create_graph\n",
      "\u001b[36malgo-1-yxvlr_1  |\u001b[0m     self.level_managers, self.environments = self._create_graph(task_parameters)\n",
      "\u001b[36malgo-1-yxvlr_1  |\u001b[0m   File \"/usr/local/lib/python3.6/dist-packages/rl_coach/graph_managers/basic_rl_graph_manager.py\", line 51, in _create_graph\n",
      "\u001b[36malgo-1-yxvlr_1  |\u001b[0m     visualization_parameters=self.visualization_parameters)\n",
      "\u001b[36malgo-1-yxvlr_1  |\u001b[0m   File \"/usr/local/lib/python3.6/dist-packages/rl_coach/environments/gym_environment.py\", line 272, in __init__\n",
      "\u001b[36malgo-1-yxvlr_1  |\u001b[0m     env_class = short_dynamic_import(self.env_id)\n",
      "\u001b[36malgo-1-yxvlr_1  |\u001b[0m   File \"/usr/local/lib/python3.6/dist-packages/rl_coach/utils.py\", line 370, in short_dynamic_import\n",
      "\u001b[36malgo-1-yxvlr_1  |\u001b[0m     ignore_module_case=ignore_module_case)\n",
      "\u001b[36malgo-1-yxvlr_1  |\u001b[0m   File \"/usr/local/lib/python3.6/dist-packages/rl_coach/utils.py\", line 382, in dynamic_import\n",
      "\u001b[36malgo-1-yxvlr_1  |\u001b[0m     module = importlib.import_module(module_path)\n",
      "\u001b[36malgo-1-yxvlr_1  |\u001b[0m   File \"/usr/lib/python3.6/importlib/__init__.py\", line 126, in import_module\n",
      "\u001b[36malgo-1-yxvlr_1  |\u001b[0m     return _bootstrap._gcd_import(name[level:], package, level)\n",
      "\u001b[36malgo-1-yxvlr_1  |\u001b[0m   File \"<frozen importlib._bootstrap>\", line 994, in _gcd_import\n",
      "\u001b[36malgo-1-yxvlr_1  |\u001b[0m   File \"<frozen importlib._bootstrap>\", line 971, in _find_and_load\n",
      "\u001b[36malgo-1-yxvlr_1  |\u001b[0m   File \"<frozen importlib._bootstrap>\", line 941, in _find_and_load_unlocked\n",
      "\u001b[36malgo-1-yxvlr_1  |\u001b[0m   File \"<frozen importlib._bootstrap>\", line 219, in _call_with_frames_removed\n",
      "\u001b[36malgo-1-yxvlr_1  |\u001b[0m   File \"<frozen importlib._bootstrap>\", line 994, in _gcd_import\n",
      "\u001b[36malgo-1-yxvlr_1  |\u001b[0m   File \"<frozen importlib._bootstrap>\", line 971, in _find_and_load\n",
      "\u001b[36malgo-1-yxvlr_1  |\u001b[0m   File \"<frozen importlib._bootstrap>\", line 955, in _find_and_load_unlocked\n",
      "\u001b[36malgo-1-yxvlr_1  |\u001b[0m   File \"<frozen importlib._bootstrap>\", line 665, in _load_unlocked\n",
      "\u001b[36malgo-1-yxvlr_1  |\u001b[0m   File \"<frozen importlib._bootstrap_external>\", line 678, in exec_module\n",
      "\u001b[36malgo-1-yxvlr_1  |\u001b[0m   File \"<frozen importlib._bootstrap>\", line 219, in _call_with_frames_removed\n",
      "\u001b[36malgo-1-yxvlr_1  |\u001b[0m   File \"/opt/ml/code/env/super_mario/gym_super_mario_bros/__init__.py\", line 2, in <module>\n",
      "\u001b[36malgo-1-yxvlr_1  |\u001b[0m     from .smb_env import SuperMarioBrosEnv\n",
      "\u001b[36malgo-1-yxvlr_1  |\u001b[0m   File \"/opt/ml/code/env/super_mario/gym_super_mario_bros/smb_env.py\", line 3, in <module>\n",
      "\u001b[36malgo-1-yxvlr_1  |\u001b[0m     from nes_py import NESEnv\n",
      "\u001b[36malgo-1-yxvlr_1  |\u001b[0m ModuleNotFoundError: No module named 'nes_py'\n",
      "\u001b[36malgo-1-yxvlr_1  |\u001b[0m 2020-11-17 15:30:17,017 sagemaker-containers ERROR    ExecuteUserScriptError:\n",
      "\u001b[36malgo-1-yxvlr_1  |\u001b[0m Command \"/usr/bin/python train-coach.py\"\n",
      "\u001b[36mtmpa31ifcca_algo-1-yxvlr_1 exited with code 1\n",
      "\u001b[0mAborting on container exit...\n"
     ]
    },
    {
     "name": "stderr",
     "output_type": "stream",
     "text": [
      "Failed to delete: /tmp/tmpa31ifcca/algo-1-yxvlr Please remove it manually.\n"
     ]
    },
    {
     "ename": "RuntimeError",
     "evalue": "Failed to run: ['docker-compose', '-f', '/tmp/tmpa31ifcca/docker-compose.yaml', 'up', '--build', '--abort-on-container-exit'], Process exited with code: 1",
     "output_type": "error",
     "traceback": [
      "\u001b[0;31m---------------------------------------------------------------------------\u001b[0m",
      "\u001b[0;31mRuntimeError\u001b[0m                              Traceback (most recent call last)",
      "\u001b[0;32m~/anaconda3/envs/python3/lib/python3.6/site-packages/sagemaker/local/image.py\u001b[0m in \u001b[0;36mtrain\u001b[0;34m(self, input_data_config, output_data_config, hyperparameters, job_name)\u001b[0m\n\u001b[1;32m    160\u001b[0m         \u001b[0;32mtry\u001b[0m\u001b[0;34m:\u001b[0m\u001b[0;34m\u001b[0m\u001b[0;34m\u001b[0m\u001b[0m\n\u001b[0;32m--> 161\u001b[0;31m             \u001b[0m_stream_output\u001b[0m\u001b[0;34m(\u001b[0m\u001b[0mprocess\u001b[0m\u001b[0;34m)\u001b[0m\u001b[0;34m\u001b[0m\u001b[0;34m\u001b[0m\u001b[0m\n\u001b[0m\u001b[1;32m    162\u001b[0m         \u001b[0;32mexcept\u001b[0m \u001b[0mRuntimeError\u001b[0m \u001b[0;32mas\u001b[0m \u001b[0me\u001b[0m\u001b[0;34m:\u001b[0m\u001b[0;34m\u001b[0m\u001b[0;34m\u001b[0m\u001b[0m\n",
      "\u001b[0;32m~/anaconda3/envs/python3/lib/python3.6/site-packages/sagemaker/local/image.py\u001b[0m in \u001b[0;36m_stream_output\u001b[0;34m(process)\u001b[0m\n\u001b[1;32m    676\u001b[0m     \u001b[0;32mif\u001b[0m \u001b[0mexit_code\u001b[0m \u001b[0;34m!=\u001b[0m \u001b[0;36m0\u001b[0m\u001b[0;34m:\u001b[0m\u001b[0;34m\u001b[0m\u001b[0;34m\u001b[0m\u001b[0m\n\u001b[0;32m--> 677\u001b[0;31m         \u001b[0;32mraise\u001b[0m \u001b[0mRuntimeError\u001b[0m\u001b[0;34m(\u001b[0m\u001b[0;34m\"Process exited with code: %s\"\u001b[0m \u001b[0;34m%\u001b[0m \u001b[0mexit_code\u001b[0m\u001b[0;34m)\u001b[0m\u001b[0;34m\u001b[0m\u001b[0;34m\u001b[0m\u001b[0m\n\u001b[0m\u001b[1;32m    678\u001b[0m \u001b[0;34m\u001b[0m\u001b[0m\n",
      "\u001b[0;31mRuntimeError\u001b[0m: Process exited with code: 1",
      "\nDuring handling of the above exception, another exception occurred:\n",
      "\u001b[0;31mRuntimeError\u001b[0m                              Traceback (most recent call last)",
      "\u001b[0;32m<ipython-input-12-22c683a71e31>\u001b[0m in \u001b[0;36m<module>\u001b[0;34m\u001b[0m\n\u001b[1;32m     12\u001b[0m                     )\n\u001b[1;32m     13\u001b[0m \u001b[0;34m\u001b[0m\u001b[0m\n\u001b[0;32m---> 14\u001b[0;31m \u001b[0mestimator\u001b[0m\u001b[0;34m.\u001b[0m\u001b[0mfit\u001b[0m\u001b[0;34m(\u001b[0m\u001b[0mwait\u001b[0m\u001b[0;34m=\u001b[0m\u001b[0mlocal_mode\u001b[0m\u001b[0;34m)\u001b[0m\u001b[0;34m\u001b[0m\u001b[0;34m\u001b[0m\u001b[0m\n\u001b[0m",
      "\u001b[0;32m~/anaconda3/envs/python3/lib/python3.6/site-packages/sagemaker/estimator.py\u001b[0m in \u001b[0;36mfit\u001b[0;34m(self, inputs, wait, logs, job_name, experiment_config)\u001b[0m\n\u001b[1;32m    494\u001b[0m         \u001b[0mself\u001b[0m\u001b[0;34m.\u001b[0m\u001b[0m_prepare_for_training\u001b[0m\u001b[0;34m(\u001b[0m\u001b[0mjob_name\u001b[0m\u001b[0;34m=\u001b[0m\u001b[0mjob_name\u001b[0m\u001b[0;34m)\u001b[0m\u001b[0;34m\u001b[0m\u001b[0;34m\u001b[0m\u001b[0m\n\u001b[1;32m    495\u001b[0m \u001b[0;34m\u001b[0m\u001b[0m\n\u001b[0;32m--> 496\u001b[0;31m         \u001b[0mself\u001b[0m\u001b[0;34m.\u001b[0m\u001b[0mlatest_training_job\u001b[0m \u001b[0;34m=\u001b[0m \u001b[0m_TrainingJob\u001b[0m\u001b[0;34m.\u001b[0m\u001b[0mstart_new\u001b[0m\u001b[0;34m(\u001b[0m\u001b[0mself\u001b[0m\u001b[0;34m,\u001b[0m \u001b[0minputs\u001b[0m\u001b[0;34m,\u001b[0m \u001b[0mexperiment_config\u001b[0m\u001b[0;34m)\u001b[0m\u001b[0;34m\u001b[0m\u001b[0;34m\u001b[0m\u001b[0m\n\u001b[0m\u001b[1;32m    497\u001b[0m         \u001b[0mself\u001b[0m\u001b[0;34m.\u001b[0m\u001b[0mjobs\u001b[0m\u001b[0;34m.\u001b[0m\u001b[0mappend\u001b[0m\u001b[0;34m(\u001b[0m\u001b[0mself\u001b[0m\u001b[0;34m.\u001b[0m\u001b[0mlatest_training_job\u001b[0m\u001b[0;34m)\u001b[0m\u001b[0;34m\u001b[0m\u001b[0;34m\u001b[0m\u001b[0m\n\u001b[1;32m    498\u001b[0m         \u001b[0;32mif\u001b[0m \u001b[0mwait\u001b[0m\u001b[0;34m:\u001b[0m\u001b[0;34m\u001b[0m\u001b[0;34m\u001b[0m\u001b[0m\n",
      "\u001b[0;32m~/anaconda3/envs/python3/lib/python3.6/site-packages/sagemaker/estimator.py\u001b[0m in \u001b[0;36mstart_new\u001b[0;34m(cls, estimator, inputs, experiment_config)\u001b[0m\n\u001b[1;32m   1089\u001b[0m             \u001b[0mtrain_args\u001b[0m\u001b[0;34m[\u001b[0m\u001b[0;34m\"enable_sagemaker_metrics\"\u001b[0m\u001b[0;34m]\u001b[0m \u001b[0;34m=\u001b[0m \u001b[0mestimator\u001b[0m\u001b[0;34m.\u001b[0m\u001b[0menable_sagemaker_metrics\u001b[0m\u001b[0;34m\u001b[0m\u001b[0;34m\u001b[0m\u001b[0m\n\u001b[1;32m   1090\u001b[0m \u001b[0;34m\u001b[0m\u001b[0m\n\u001b[0;32m-> 1091\u001b[0;31m         \u001b[0mestimator\u001b[0m\u001b[0;34m.\u001b[0m\u001b[0msagemaker_session\u001b[0m\u001b[0;34m.\u001b[0m\u001b[0mtrain\u001b[0m\u001b[0;34m(\u001b[0m\u001b[0;34m**\u001b[0m\u001b[0mtrain_args\u001b[0m\u001b[0;34m)\u001b[0m\u001b[0;34m\u001b[0m\u001b[0;34m\u001b[0m\u001b[0m\n\u001b[0m\u001b[1;32m   1092\u001b[0m \u001b[0;34m\u001b[0m\u001b[0m\n\u001b[1;32m   1093\u001b[0m         \u001b[0;32mreturn\u001b[0m \u001b[0mcls\u001b[0m\u001b[0;34m(\u001b[0m\u001b[0mestimator\u001b[0m\u001b[0;34m.\u001b[0m\u001b[0msagemaker_session\u001b[0m\u001b[0;34m,\u001b[0m \u001b[0mestimator\u001b[0m\u001b[0;34m.\u001b[0m\u001b[0m_current_job_name\u001b[0m\u001b[0;34m)\u001b[0m\u001b[0;34m\u001b[0m\u001b[0;34m\u001b[0m\u001b[0m\n",
      "\u001b[0;32m~/anaconda3/envs/python3/lib/python3.6/site-packages/sagemaker/session.py\u001b[0m in \u001b[0;36mtrain\u001b[0;34m(self, input_mode, input_config, role, job_name, output_config, resource_config, vpc_config, hyperparameters, stop_condition, tags, metric_definitions, enable_network_isolation, image, algorithm_arn, encrypt_inter_container_traffic, train_use_spot_instances, checkpoint_s3_uri, checkpoint_local_path, experiment_config, debugger_rule_configs, debugger_hook_config, tensorboard_output_config, enable_sagemaker_metrics)\u001b[0m\n\u001b[1;32m    588\u001b[0m         \u001b[0mLOGGER\u001b[0m\u001b[0;34m.\u001b[0m\u001b[0minfo\u001b[0m\u001b[0;34m(\u001b[0m\u001b[0;34m\"Creating training-job with name: %s\"\u001b[0m\u001b[0;34m,\u001b[0m \u001b[0mjob_name\u001b[0m\u001b[0;34m)\u001b[0m\u001b[0;34m\u001b[0m\u001b[0;34m\u001b[0m\u001b[0m\n\u001b[1;32m    589\u001b[0m         \u001b[0mLOGGER\u001b[0m\u001b[0;34m.\u001b[0m\u001b[0mdebug\u001b[0m\u001b[0;34m(\u001b[0m\u001b[0;34m\"train request: %s\"\u001b[0m\u001b[0;34m,\u001b[0m \u001b[0mjson\u001b[0m\u001b[0;34m.\u001b[0m\u001b[0mdumps\u001b[0m\u001b[0;34m(\u001b[0m\u001b[0mtrain_request\u001b[0m\u001b[0;34m,\u001b[0m \u001b[0mindent\u001b[0m\u001b[0;34m=\u001b[0m\u001b[0;36m4\u001b[0m\u001b[0;34m)\u001b[0m\u001b[0;34m)\u001b[0m\u001b[0;34m\u001b[0m\u001b[0;34m\u001b[0m\u001b[0m\n\u001b[0;32m--> 590\u001b[0;31m         \u001b[0mself\u001b[0m\u001b[0;34m.\u001b[0m\u001b[0msagemaker_client\u001b[0m\u001b[0;34m.\u001b[0m\u001b[0mcreate_training_job\u001b[0m\u001b[0;34m(\u001b[0m\u001b[0;34m**\u001b[0m\u001b[0mtrain_request\u001b[0m\u001b[0;34m)\u001b[0m\u001b[0;34m\u001b[0m\u001b[0;34m\u001b[0m\u001b[0m\n\u001b[0m\u001b[1;32m    591\u001b[0m \u001b[0;34m\u001b[0m\u001b[0m\n\u001b[1;32m    592\u001b[0m     def process(\n",
      "\u001b[0;32m~/anaconda3/envs/python3/lib/python3.6/site-packages/sagemaker/local/local_session.py\u001b[0m in \u001b[0;36mcreate_training_job\u001b[0;34m(self, TrainingJobName, AlgorithmSpecification, OutputDataConfig, ResourceConfig, InputDataConfig, **kwargs)\u001b[0m\n\u001b[1;32m    100\u001b[0m         \u001b[0mhyperparameters\u001b[0m \u001b[0;34m=\u001b[0m \u001b[0mkwargs\u001b[0m\u001b[0;34m[\u001b[0m\u001b[0;34m\"HyperParameters\"\u001b[0m\u001b[0;34m]\u001b[0m \u001b[0;32mif\u001b[0m \u001b[0;34m\"HyperParameters\"\u001b[0m \u001b[0;32min\u001b[0m \u001b[0mkwargs\u001b[0m \u001b[0;32melse\u001b[0m \u001b[0;34m{\u001b[0m\u001b[0;34m}\u001b[0m\u001b[0;34m\u001b[0m\u001b[0;34m\u001b[0m\u001b[0m\n\u001b[1;32m    101\u001b[0m         \u001b[0mlogger\u001b[0m\u001b[0;34m.\u001b[0m\u001b[0minfo\u001b[0m\u001b[0;34m(\u001b[0m\u001b[0;34m\"Starting training job\"\u001b[0m\u001b[0;34m)\u001b[0m\u001b[0;34m\u001b[0m\u001b[0;34m\u001b[0m\u001b[0m\n\u001b[0;32m--> 102\u001b[0;31m         \u001b[0mtraining_job\u001b[0m\u001b[0;34m.\u001b[0m\u001b[0mstart\u001b[0m\u001b[0;34m(\u001b[0m\u001b[0mInputDataConfig\u001b[0m\u001b[0;34m,\u001b[0m \u001b[0mOutputDataConfig\u001b[0m\u001b[0;34m,\u001b[0m \u001b[0mhyperparameters\u001b[0m\u001b[0;34m,\u001b[0m \u001b[0mTrainingJobName\u001b[0m\u001b[0;34m)\u001b[0m\u001b[0;34m\u001b[0m\u001b[0;34m\u001b[0m\u001b[0m\n\u001b[0m\u001b[1;32m    103\u001b[0m \u001b[0;34m\u001b[0m\u001b[0m\n\u001b[1;32m    104\u001b[0m         \u001b[0mLocalSagemakerClient\u001b[0m\u001b[0;34m.\u001b[0m\u001b[0m_training_jobs\u001b[0m\u001b[0;34m[\u001b[0m\u001b[0mTrainingJobName\u001b[0m\u001b[0;34m]\u001b[0m \u001b[0;34m=\u001b[0m \u001b[0mtraining_job\u001b[0m\u001b[0;34m\u001b[0m\u001b[0;34m\u001b[0m\u001b[0m\n",
      "\u001b[0;32m~/anaconda3/envs/python3/lib/python3.6/site-packages/sagemaker/local/entities.py\u001b[0m in \u001b[0;36mstart\u001b[0;34m(self, input_data_config, output_data_config, hyperparameters, job_name)\u001b[0m\n\u001b[1;32m     93\u001b[0m \u001b[0;34m\u001b[0m\u001b[0m\n\u001b[1;32m     94\u001b[0m         self.model_artifacts = self.container.train(\n\u001b[0;32m---> 95\u001b[0;31m             \u001b[0minput_data_config\u001b[0m\u001b[0;34m,\u001b[0m \u001b[0moutput_data_config\u001b[0m\u001b[0;34m,\u001b[0m \u001b[0mhyperparameters\u001b[0m\u001b[0;34m,\u001b[0m \u001b[0mjob_name\u001b[0m\u001b[0;34m\u001b[0m\u001b[0;34m\u001b[0m\u001b[0m\n\u001b[0m\u001b[1;32m     96\u001b[0m         )\n\u001b[1;32m     97\u001b[0m         \u001b[0mself\u001b[0m\u001b[0;34m.\u001b[0m\u001b[0mend_time\u001b[0m \u001b[0;34m=\u001b[0m \u001b[0mdatetime\u001b[0m\u001b[0;34m.\u001b[0m\u001b[0mdatetime\u001b[0m\u001b[0;34m.\u001b[0m\u001b[0mnow\u001b[0m\u001b[0;34m(\u001b[0m\u001b[0;34m)\u001b[0m\u001b[0;34m\u001b[0m\u001b[0;34m\u001b[0m\u001b[0m\n",
      "\u001b[0;32m~/anaconda3/envs/python3/lib/python3.6/site-packages/sagemaker/local/image.py\u001b[0m in \u001b[0;36mtrain\u001b[0;34m(self, input_data_config, output_data_config, hyperparameters, job_name)\u001b[0m\n\u001b[1;32m    164\u001b[0m             \u001b[0;31m# which contains the exit code and append the command line to it.\u001b[0m\u001b[0;34m\u001b[0m\u001b[0;34m\u001b[0m\u001b[0;34m\u001b[0m\u001b[0m\n\u001b[1;32m    165\u001b[0m             \u001b[0mmsg\u001b[0m \u001b[0;34m=\u001b[0m \u001b[0;34m\"Failed to run: %s, %s\"\u001b[0m \u001b[0;34m%\u001b[0m \u001b[0;34m(\u001b[0m\u001b[0mcompose_command\u001b[0m\u001b[0;34m,\u001b[0m \u001b[0mstr\u001b[0m\u001b[0;34m(\u001b[0m\u001b[0me\u001b[0m\u001b[0;34m)\u001b[0m\u001b[0;34m)\u001b[0m\u001b[0;34m\u001b[0m\u001b[0;34m\u001b[0m\u001b[0m\n\u001b[0;32m--> 166\u001b[0;31m             \u001b[0;32mraise\u001b[0m \u001b[0mRuntimeError\u001b[0m\u001b[0;34m(\u001b[0m\u001b[0mmsg\u001b[0m\u001b[0;34m)\u001b[0m\u001b[0;34m\u001b[0m\u001b[0;34m\u001b[0m\u001b[0m\n\u001b[0m\u001b[1;32m    167\u001b[0m         \u001b[0;32mfinally\u001b[0m\u001b[0;34m:\u001b[0m\u001b[0;34m\u001b[0m\u001b[0;34m\u001b[0m\u001b[0m\n\u001b[1;32m    168\u001b[0m             \u001b[0martifacts\u001b[0m \u001b[0;34m=\u001b[0m \u001b[0mself\u001b[0m\u001b[0;34m.\u001b[0m\u001b[0mretrieve_artifacts\u001b[0m\u001b[0;34m(\u001b[0m\u001b[0mcompose_data\u001b[0m\u001b[0;34m,\u001b[0m \u001b[0moutput_data_config\u001b[0m\u001b[0;34m,\u001b[0m \u001b[0mjob_name\u001b[0m\u001b[0;34m)\u001b[0m\u001b[0;34m\u001b[0m\u001b[0;34m\u001b[0m\u001b[0m\n",
      "\u001b[0;31mRuntimeError\u001b[0m: Failed to run: ['docker-compose', '-f', '/tmp/tmpa31ifcca/docker-compose.yaml', 'up', '--build', '--abort-on-container-exit'], Process exited with code: 1"
     ]
    }
   ],
   "source": [
    "estimator = RLEstimator(entry_point=\"train-coach.py\",\n",
    "                        source_dir='src',\n",
    "                        toolkit=RLToolkit.COACH,\n",
    "                        toolkit_version='0.11.0',\n",
    "                        dependencies=[COMMON_PATH +\"/sagemaker_rl\"],\n",
    "                        framework=RLFramework.TENSORFLOW,\n",
    "                        role=role,\n",
    "                        train_instance_type=instance_type,\n",
    "                        train_instance_count=1,\n",
    "                        output_path=s3_output_path,\n",
    "                        base_job_name=job_name_prefix\n",
    "                    )\n",
    "\n",
    "estimator.fit(wait=local_mode)"
   ]
  },
  {
   "cell_type": "code",
   "execution_count": null,
   "metadata": {},
   "outputs": [],
   "source": []
  }
 ],
 "metadata": {
  "kernelspec": {
   "display_name": "conda_python3",
   "language": "python",
   "name": "conda_python3"
  },
  "language_info": {
   "codemirror_mode": {
    "name": "ipython",
    "version": 3
   },
   "file_extension": ".py",
   "mimetype": "text/x-python",
   "name": "python",
   "nbconvert_exporter": "python",
   "pygments_lexer": "ipython3",
   "version": "3.6.10"
  }
 },
 "nbformat": 4,
 "nbformat_minor": 4
}
