{
 "cells": [
  {
   "cell_type": "markdown",
   "metadata": {},
   "source": [
    "### Get ROM and State Mapping Dictionary for Super Mario World \n",
    "\n",
    "### Get It Running Locally By Itself\n",
    "\n",
    "### Add Custom Reward\n",
    "\n",
    "### Get it Running in an Extensible Manner"
   ]
  },
  {
   "cell_type": "code",
   "execution_count": 88,
   "metadata": {},
   "outputs": [],
   "source": [
    "URL_BASE='https://www.smwcentral.net/?a=filtermap&p=memorymap&game=smw&u=0&address=&sizeOperation=%3D&sizeValue=&region%5B0%5D=rom&type=%2A&description=&page='"
   ]
  },
  {
   "cell_type": "code",
   "execution_count": 101,
   "metadata": {},
   "outputs": [],
   "source": [
    "import requests\n",
    "from bs4 import BeautifulSoup\n",
    "\n",
    "state_dict = {}\n",
    "for i in range (1, 63):\n",
    "    page = requests.get(URL_BASE + str(i))\n",
    "  \n",
    "    soup = BeautifulSoup(page.content, 'html.parser')\n",
    "    \n",
    "    tables = soup.find_all('table', class_='generic')\n",
    "\n",
    "    relevant_table = None \n",
    "    for table in tables:\n",
    "        headers = table.find_all('thead')\n",
    "        for header in headers:\n",
    "            if 'ROM Address' in header.get_text():\n",
    "                if relevant_table:\n",
    "                    print('More than one table found on this page. Exiting loop as error is assumed')\n",
    "                    break\n",
    "                relevant_table = table\n",
    "    assert relevant_table\n",
    "    \n",
    "    cells = relevant_table.find('tbody').find_all('tr')\n",
    "\n",
    "\n",
    "    COLUMNS = ['MEMORY ADDRESS', 'LENGTH', 'TYPE', 'DESCRIPTION']\n",
    "    for cell in cells:\n",
    "        text = list(filter(None, cell.get_text().split('\\n')))\n",
    "\n",
    "        entry = dict(zip(COLUMNS, text))\n",
    "                \n",
    "        state_dict[entry['MEMORY ADDRESS']] = entry    "
   ]
  },
  {
   "cell_type": "code",
   "execution_count": 102,
   "metadata": {},
   "outputs": [],
   "source": [
    "#pickle the constructed dictionary\n",
    "\n",
    "try:\n",
    "    import cPickle as pickle\n",
    "except ImportError:  # Python 3.x\n",
    "    import pickle\n",
    "\n",
    "with open('data.p', 'wb') as fp:\n",
    "    pickle.dump(state_dict, fp, protocol=pickle.HIGHEST_PROTOCOL)"
   ]
  },
  {
   "cell_type": "code",
   "execution_count": 91,
   "metadata": {},
   "outputs": [],
   "source": [
    "#get all tables and filter to retain those with appropriate columns "
   ]
  },
  {
   "cell_type": "code",
   "execution_count": 92,
   "metadata": {},
   "outputs": [],
   "source": []
  },
  {
   "cell_type": "code",
   "execution_count": 93,
   "metadata": {},
   "outputs": [
    {
     "name": "stdout",
     "output_type": "stream",
     "text": [
      "50\n",
      "{'$008000': 'MEMORY ADDRESS', '39 bytes': 'LENGTH', 'ASM': 'TYPE', 'This is the starting address of SMW.  This takes care of basic initialization such as disabling IRQ, HDMA, DMA, clearing the SPC ports, enabling F-blank, disabling emulation mode, disabling decimal mode, initializing the direct page, and setting up the stack.': 'DESCRIPTION'}\n"
     ]
    }
   ],
   "source": []
  },
  {
   "cell_type": "code",
   "execution_count": null,
   "metadata": {},
   "outputs": [],
   "source": []
  },
  {
   "cell_type": "code",
   "execution_count": null,
   "metadata": {},
   "outputs": [],
   "source": []
  }
 ],
 "metadata": {
  "kernelspec": {
   "display_name": "conda_python3",
   "language": "python",
   "name": "conda_python3"
  },
  "language_info": {
   "codemirror_mode": {
    "name": "ipython",
    "version": 3
   },
   "file_extension": ".py",
   "mimetype": "text/x-python",
   "name": "python",
   "nbconvert_exporter": "python",
   "pygments_lexer": "ipython3",
   "version": "3.6.10"
  }
 },
 "nbformat": 4,
 "nbformat_minor": 4
}
